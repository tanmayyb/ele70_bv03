{
 "cells": [
  {
   "cell_type": "markdown",
   "metadata": {},
   "source": [
    "## IESO"
   ]
  },
  {
   "cell_type": "code",
   "execution_count": 15,
   "metadata": {},
   "outputs": [],
   "source": [
    "%load_ext autoreload\n",
    "%autoreload 2"
   ]
  },
  {
   "cell_type": "code",
   "execution_count": 34,
   "metadata": {},
   "outputs": [],
   "source": [
    "# # load from github\n",
    "# import urllib.request\n",
    "# api_url = 'https://raw.githubusercontent.com/tanmayyb/ele70_bv03/refs/heads/main/api/datasets.py'\n",
    "# exec(urllib.request.urlopen(api_url).read())\n",
    "\n",
    "# load from local\n",
    "import sys\n",
    "import os\n",
    "project_root = os.path.abspath(os.path.join(os.getcwd(), '../..'))\n",
    "sys.path.append(project_root)\n",
    "from api.datasets import IESODataset"
   ]
  },
  {
   "cell_type": "code",
   "execution_count": 35,
   "metadata": {},
   "outputs": [
    {
     "name": "stdout",
     "output_type": "stream",
     "text": [
      "Time range: 201801 to 202411\n"
     ]
    }
   ],
   "source": [
    "# dataset = IESODataset('fsa')\n",
    "# dataset.load_dataset(download=False)\n",
    "# dataset.selected_dates\n",
    "\n",
    "dataset = IESODataset('fsa')\n",
    "# dataset.load_dataset()\n",
    "# dataset.selected_dates"
   ]
  },
  {
   "cell_type": "markdown",
   "metadata": {},
   "source": [
    "| Property | FSA Type | Zonal Type |\n",
    "|----------|----------|------------|\n",
    "| dataset_type | \"fsa\" | \"zonal\" |\n",
    "| region | Only \"ON\" supported | Only \"ON\" supported |\n",
    "| target_options | List of Ontario cities | Fixed list: [\"Northwest\", \"Northeast\", \"Ottawa\", \"East\", \"Toronto\", \"Essa\", \"Bruce\", \"Southwest\", \"Niagara\", \"West\", \"Zone Total\"] |\n",
    "| target_val | List of postal codes for selected city | Same as selected zone name |\n",
    "| filetype | \"zip\" | \"csv\" |\n",
    "| date_type | Monthly (YYYYMM) | Yearly (YYYY) |\n",
    "| Data Granularity | FSA (Forward Sortation Area) level consumption | Zonal level demand |\n",
    "| Data Format | Total consumption by postal code | Demand by geographical zone |\n",
    "\n",
    "\n",
    "| Method | FSA Type | Zonal Type |\n",
    "|--------|----------|------------|\n",
    "| set_target(target_idx: int) | Sets city and corresponding postal codes<br>Example: set_target(0) might select \"Toronto\" and its FSAs | Sets single zone name<br>Example: set_target(4) selects \"Toronto\" zone |\n",
    "| load_dataset(start_date, end_date, target_idx, download=True) | start_date: YYYYMM format (e.g., 201801)<br>end_date: YYYYMM format<br>Example: load_dataset(201801, 201812, 0, download=True) | start_date: YYYY format (e.g., 2018)<br>end_date: YYYY format<br>Example: load_dataset(2018, 2018, 4, download=True) |\n",
    "| get_target_options() | Returns list of available cities | Returns list of 11 zones:<br>[\"Northwest\", \"Northeast\", \"Ottawa\", etc.] |\n",
    "| parse_dataset(chunk_size=4) | Processes FSA consumption data<br>Groups by DATE, HOUR for selected postal codes | Processes zonal demand data<br>Direct selection of zone column |\n",
    "| save_dataset(filepath=None) | Saves data with FSA metadata:<br>- City name<br>- Postal codes<br>- Monthly files | Saves data with zonal metadata:<br>- Zone name<br>- Yearly files |\n",
    "| load_from_json(filepath=None) | Loads FSA dataset with:<br>- Consumption by postal code<br>- DateTime in monthly granularity | Loads zonal dataset with:<br>- Demand by zone<br>- DateTime in yearly granularity |"
   ]
  },
  {
   "cell_type": "code",
   "execution_count": 50,
   "metadata": {},
   "outputs": [
    {
     "name": "stderr",
     "output_type": "stream",
     "text": [
      "Downloading and extracting ZIP files: 100%|██████████| 13/13 [00:08<00:00,  1.54it/s]\n"
     ]
    }
   ],
   "source": [
    "dataset.load_dataset(start_date=202001, end_date=202101)\n"
   ]
  },
  {
   "cell_type": "markdown",
   "metadata": {},
   "source": [
    "## Climate"
   ]
  },
  {
   "cell_type": "code",
   "execution_count": null,
   "metadata": {},
   "outputs": [],
   "source": [
    "# class WeatherDataset(Dataset):\n",
    "#   def __init__(self, region: str = \"ON\", sampling_seed: int = 42, sample_num: int = 10):\n",
    "#     super().__init__(region, \"CANADA\")\n",
    "#     self.dataset_type = \"WEATHER\"\n",
    "    \n",
    "#     # add zonal list\n",
    "#     # add sampling based on zonal list"
   ]
  },
  {
   "cell_type": "code",
   "execution_count": null,
   "metadata": {},
   "outputs": [],
   "source": [
    "# class DatasetLoader():\n",
    "#   def __init__(self, dataset: Dataset):\n",
    "#     self.dataset = dataset\n",
    "\n",
    "#   def load_dataset(self, dataset, start_date: int = None, end_date: int = None, download: bool = False):\n",
    "#     if start_date > end_date:\n",
    "#       raise ValueError(\"Start date must be before end date\")\n",
    "\n",
    "#     files = dataset.files\n",
    "#     file_type = dataset.filetype\n",
    "#     dates = dataset.dates\n",
    "#     date_type = dataset.date_type\n",
    "\n",
    "#     if download:\n",
    "#       self.dataset.download_dataset()\n",
    "#     else:\n",
    "#       self.dataset.load_dataset_from_local()\n",
    "\n",
    "  # def download_dataset(self, dataset, file_type, date_type, start_date: int, end_date: int):\n",
    "  # # make sure data folder exists\n",
    "  #   if file_type == \"zip\":\n",
    "  #     self.download_zip_dataset(files, dates, date_type)\n",
    "  #   elif file_type == \"csv\":\n",
    "  #     self.download_csv_dataset(files, dates, date_type)\n",
    "\n",
    "  # def download_zip_dataset(self, files, dates, date_type):\n",
    "  #   for file in files:\n",
    "  #     url = file"
   ]
  }
 ],
 "metadata": {
  "kernelspec": {
   "display_name": "bv03",
   "language": "python",
   "name": "python3"
  },
  "language_info": {
   "codemirror_mode": {
    "name": "ipython",
    "version": 3
   },
   "file_extension": ".py",
   "mimetype": "text/x-python",
   "name": "python",
   "nbconvert_exporter": "python",
   "pygments_lexer": "ipython3",
   "version": "3.12.9"
  }
 },
 "nbformat": 4,
 "nbformat_minor": 2
}
