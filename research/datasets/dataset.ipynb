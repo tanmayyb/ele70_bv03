{
 "cells": [
  {
   "cell_type": "markdown",
   "metadata": {},
   "source": [
    "## IESO"
   ]
  },
  {
   "cell_type": "code",
   "execution_count": 1,
   "metadata": {},
   "outputs": [],
   "source": [
    "%load_ext autoreload\n",
    "%autoreload 2"
   ]
  },
  {
   "cell_type": "code",
   "execution_count": 13,
   "metadata": {},
   "outputs": [],
   "source": [
    "# # load from github\n",
    "# import urllib.request\n",
    "# api_url = 'https://raw.githubusercontent.com/tanmayyb/ele70_bv03/refs/heads/main/api/datasets.py'\n",
    "# exec(urllib.request.urlopen(api_url).read())\n",
    "\n",
    "# load from local\n",
    "import sys\n",
    "import os\n",
    "project_root = os.path.abspath(os.path.join(os.getcwd(), '../..'))\n",
    "sys.path.append(project_root)\n",
    "from api.datasets import IESODataset"
   ]
  },
  {
   "cell_type": "code",
   "execution_count": null,
   "metadata": {},
   "outputs": [],
   "source": [
    "dataset = IESODataset('fsa')\n",
    "dataset.load_dataset(download=False)\n",
    "dataset.selected_dates"
   ]
  },
  {
   "cell_type": "markdown",
   "metadata": {},
   "source": [
    "## Climate"
   ]
  },
  {
   "cell_type": "code",
   "execution_count": null,
   "metadata": {},
   "outputs": [],
   "source": [
    "# class WeatherDataset(Dataset):\n",
    "#   def __init__(self, region: str = \"ON\", sampling_seed: int = 42, sample_num: int = 10):\n",
    "#     super().__init__(region, \"CANADA\")\n",
    "#     self.dataset_type = \"WEATHER\"\n",
    "    \n",
    "#     # add zonal list\n",
    "#     # add sampling based on zonal list"
   ]
  },
  {
   "cell_type": "code",
   "execution_count": null,
   "metadata": {},
   "outputs": [],
   "source": [
    "# class DatasetLoader():\n",
    "#   def __init__(self, dataset: Dataset):\n",
    "#     self.dataset = dataset\n",
    "\n",
    "#   def load_dataset(self, dataset, start_date: int = None, end_date: int = None, download: bool = False):\n",
    "#     if start_date > end_date:\n",
    "#       raise ValueError(\"Start date must be before end date\")\n",
    "\n",
    "#     files = dataset.files\n",
    "#     file_type = dataset.filetype\n",
    "#     dates = dataset.dates\n",
    "#     date_type = dataset.date_type\n",
    "\n",
    "#     if download:\n",
    "#       self.dataset.download_dataset()\n",
    "#     else:\n",
    "#       self.dataset.load_dataset_from_local()\n",
    "\n",
    "  # def download_dataset(self, dataset, file_type, date_type, start_date: int, end_date: int):\n",
    "  # # make sure data folder exists\n",
    "  #   if file_type == \"zip\":\n",
    "  #     self.download_zip_dataset(files, dates, date_type)\n",
    "  #   elif file_type == \"csv\":\n",
    "  #     self.download_csv_dataset(files, dates, date_type)\n",
    "\n",
    "  # def download_zip_dataset(self, files, dates, date_type):\n",
    "  #   for file in files:\n",
    "  #     url = file"
   ]
  }
 ],
 "metadata": {
  "kernelspec": {
   "display_name": "bv03",
   "language": "python",
   "name": "python3"
  },
  "language_info": {
   "codemirror_mode": {
    "name": "ipython",
    "version": 3
   },
   "file_extension": ".py",
   "mimetype": "text/x-python",
   "name": "python",
   "nbconvert_exporter": "python",
   "pygments_lexer": "ipython3",
   "version": "3.12.9"
  }
 },
 "nbformat": 4,
 "nbformat_minor": 2
}
